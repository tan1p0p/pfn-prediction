{
 "cells": [
  {
   "cell_type": "code",
   "execution_count": 1,
   "metadata": {},
   "outputs": [],
   "source": [
    "import os\n",
    "import sys\n",
    "\n",
    "import numpy as np\n",
    "\n",
    "sys.path.append(os.path.join('/home/hassaku/pfn-prediction/src/'))"
   ]
  },
  {
   "cell_type": "code",
   "execution_count": 2,
   "metadata": {},
   "outputs": [],
   "source": [
    "from modules.dataloader import DataLoader\n",
    "from modules.network import Network"
   ]
  },
  {
   "cell_type": "code",
   "execution_count": 3,
   "metadata": {},
   "outputs": [],
   "source": [
    "dataloader = DataLoader('../data/raw/hands/hand_position.json')\n",
    "dataloader.load_data()\n",
    "train, valid, test = dataloader.split()\n",
    "net = Network()"
   ]
  },
  {
   "cell_type": "code",
   "execution_count": 4,
   "metadata": {},
   "outputs": [],
   "source": [
    "from chainer import optimizers\n",
    "from chainer.optimizer_hooks import WeightDecay\n",
    "\n",
    "optimizer = optimizers.SGD(lr=0.001)  # 学習率を 0.01 に設定\n",
    "optimizer.setup(net)\n",
    "\n",
    "for param in net.params():\n",
    "    if param.name != 'b':  # バイアス以外だったら\n",
    "        param.update_rule.add_hook(WeightDecay(0.0001))  # 重み減衰を適用"
   ]
  },
  {
   "cell_type": "code",
   "execution_count": 5,
   "metadata": {},
   "outputs": [],
   "source": [
    "from chainer.iterators import SerialIterator\n",
    "train_iter = SerialIterator(train, batch_size=4, repeat=True, shuffle=True)"
   ]
  },
  {
   "cell_type": "code",
   "execution_count": 7,
   "metadata": {},
   "outputs": [],
   "source": [
    "'''\n",
    "config\n",
    "'''\n",
    "# gpu_id = 0  # 使用する GPU 番号\n",
    "n_batch = 2  # バッチサイズ\n",
    "n_epoch = 5  # エポック数\n",
    "\n",
    "# ネットワークを GPU メモリ上に転送\n",
    "# net.to_gpu(gpu_id)"
   ]
  },
  {
   "cell_type": "code",
   "execution_count": 8,
   "metadata": {},
   "outputs": [
    {
     "name": "stdout",
     "output_type": "stream",
     "text": [
      "epoch: 0, iteration: 2, loss (train): 0.1908, loss (valid): 0.1669acc (train): 0.0003, acc (valid): 0.0003\n",
      "epoch: 1, iteration: 4, loss (train): 0.1031, loss (valid): 0.1248acc (train): 0.0003, acc (valid): 0.0003\n",
      "epoch: 2, iteration: 6, loss (train): 0.0891, loss (valid): 0.0985acc (train): 0.0003, acc (valid): 0.0003\n",
      "epoch: 3, iteration: 8, loss (train): 0.0728, loss (valid): 0.0801acc (train): 0.0003, acc (valid): 0.0003\n",
      "epoch: 4, iteration: 10, loss (train): 0.0636, loss (valid): 0.0666acc (train): 0.0003, acc (valid): 0.0003\n"
     ]
    }
   ],
   "source": [
    "import chainer\n",
    "import chainer.functions as F\n",
    "from chainer.dataset import concat_examples\n",
    "\n",
    "count = 0\n",
    "# ログの保存用\n",
    "results_train = {\n",
    "    'loss': [],\n",
    "    'accuracy': []\n",
    "}\n",
    "results_valid = {\n",
    "    'loss': [],\n",
    "    'accuracy': []\n",
    "}\n",
    "for epoch in range(n_epoch):\n",
    "    while True:\n",
    "        # ミニバッチの取得\n",
    "        train_batch = train_iter.next()\n",
    "        # x と t に分割\n",
    "        # データを GPU に転送するために、concat_examples に gpu_id を渡す\n",
    "        x_train, t_train = concat_examples(train_batch) #, gpu_id)\n",
    "\n",
    "        # 予測値と目的関数の計算\n",
    "        y_train = net(x_train)\n",
    "        loss_train = F.mean_squared_error(y_train, t_train.astype(np.float32))\n",
    "        acc_train = F.binary_accuracy(y_train, t_train)\n",
    "\n",
    "        # 勾配の初期化と勾配の計算\n",
    "        net.cleargrads()\n",
    "        loss_train.backward()\n",
    "\n",
    "        # パラメータの更新\n",
    "        optimizer.update()\n",
    "\n",
    "        # カウントアップ\n",
    "        count += 1\n",
    "\n",
    "        # 1エポック終えたら、valid データで評価する\n",
    "        if train_iter.is_new_epoch:\n",
    "\n",
    "            # 検証用データに対する結果の確認\n",
    "            with chainer.using_config('train', False), chainer.using_config('enable_backprop', False):\n",
    "                x_valid, t_valid = chainer.dataset.concat_examples(valid) #, gpu_id)\n",
    "                y_valid = net(x_valid)\n",
    "                loss_valid = F.mean_squared_error(y_valid, t_valid.astype(np.float32))\n",
    "                acc_valid = F.binary_accuracy(y_valid, t_valid)\n",
    "\n",
    "            # 注意：GPU で計算した結果はGPU上に存在するため、CPU上に転送します\n",
    "#             loss_train.to_cpu()\n",
    "#             loss_valid.to_cpu()\n",
    "#             acc_train.to_cpu()\n",
    "#             acc_valid.to_cpu()\n",
    "\n",
    "            # 結果の表示\n",
    "            print('epoch: {}, iteration: {}, loss (train): {:.4f}, loss (valid): {:.4f}'\n",
    "                  'acc (train): {:.4f}, acc (valid): {:.4f}'.format(\n",
    "                epoch, count, loss_train.array.mean(), loss_valid.array.mean(),\n",
    "                  acc_train.array.mean(), acc_valid.array.mean()))\n",
    "\n",
    "            # 可視化用に保存\n",
    "            results_train['loss'] .append(loss_train.array)\n",
    "            results_train['accuracy'] .append(acc_train.array)\n",
    "            results_valid['loss'].append(loss_valid.array)\n",
    "            results_valid['accuracy'].append(acc_valid.array)\n",
    "            \n",
    "            break"
   ]
  },
  {
   "cell_type": "code",
   "execution_count": null,
   "metadata": {},
   "outputs": [],
   "source": []
  }
 ],
 "metadata": {
  "kernelspec": {
   "display_name": "Python 3",
   "language": "python",
   "name": "python3"
  },
  "language_info": {
   "codemirror_mode": {
    "name": "ipython",
    "version": 3
   },
   "file_extension": ".py",
   "mimetype": "text/x-python",
   "name": "python",
   "nbconvert_exporter": "python",
   "pygments_lexer": "ipython3",
   "version": "3.7.1"
  }
 },
 "nbformat": 4,
 "nbformat_minor": 2
}
