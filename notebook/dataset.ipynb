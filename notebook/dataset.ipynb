{
 "cells": [
  {
   "cell_type": "code",
   "execution_count": 16,
   "metadata": {},
   "outputs": [],
   "source": [
    "import json\n",
    "\n",
    "import numpy as np\n",
    "from chainer.datasets import TupleDataset, split_dataset_random\n",
    "from chainer.iterators import SerialIterator\n",
    "from PIL import Image"
   ]
  },
  {
   "cell_type": "code",
   "execution_count": 17,
   "metadata": {},
   "outputs": [],
   "source": [
    "class DataLoader():\n",
    "    def __init__(self, annotation_file_path):\n",
    "        self.height = 224\n",
    "        self.width = 224\n",
    "        self.channel = 3\n",
    "        self.label_num = 16\n",
    "        self.annotation_file_path = annotation_file_path\n",
    "        self.annotation_file = json.load(open((self.annotation_file_path), 'r'))\n",
    "        self.image_list = self.annotation_file['fileList']\n",
    "        self.label_list = self.annotation_file['posList']\n",
    "\n",
    "    def load_data(self):\n",
    "        x = np.zeros((len(self.image_list), self.height, self.width, self.channel))\n",
    "        for i, imagepath in enumerate(self.image_list):\n",
    "            image = Image.open(imagepath).convert('RGB')\n",
    "            x[i] = np.asarray(image.resize((self.height, self.width)))\n",
    "        self.x = x.astype('float32')\n",
    "\n",
    "        t = np.zeros((len(self.label_list), self.height, self.width, self.label_num))\n",
    "        for label_idx, label in enumerate(self.label_list):\n",
    "            for point_idx, point in enumerate(label):\n",
    "                x_pos = int(point[0] / 600 * 224)\n",
    "                y_pos = int(point[1] / 600 * 224)\n",
    "                t[label_idx][y_pos][x_pos][point_idx] = 1\n",
    "        self.t = t.astype('int32')\n",
    "\n",
    "        self.dataset = TupleDataset(x, t)\n",
    "        return self.dataset\n",
    "        \n",
    "    def split(self, ratio = (8, 1, 1)):\n",
    "        train_val_rate = (ratio[0] + ratio[1]) / sum(ratio)\n",
    "        train_rate = ratio[0] / (ratio[0] + ratio[1])\n",
    "        train_val, test = split_dataset_random(self.dataset, int(len(self.dataset) * train_val_rate), seed=0)\n",
    "        train, valid = split_dataset_random(train_val, int(len(train_val) * train_rate), seed=0)\n",
    "        self.train = train\n",
    "        self.valid = valid\n",
    "        self.test = test\n",
    "        return (self.train, self.valid, self.test)"
   ]
  },
  {
   "cell_type": "code",
   "execution_count": 18,
   "metadata": {},
   "outputs": [],
   "source": [
    "dataloader = DataLoader('../data/raw/hands/hand_position.json')"
   ]
  },
  {
   "cell_type": "code",
   "execution_count": 19,
   "metadata": {},
   "outputs": [
    {
     "data": {
      "text/plain": [
       "<chainer.datasets.tuple_dataset.TupleDataset at 0x10c0d04e0>"
      ]
     },
     "execution_count": 19,
     "metadata": {},
     "output_type": "execute_result"
    }
   ],
   "source": [
    "dataloader.load_data()"
   ]
  },
  {
   "cell_type": "code",
   "execution_count": 21,
   "metadata": {},
   "outputs": [],
   "source": [
    "a, b, c = dataloader.split()"
   ]
  },
  {
   "cell_type": "code",
   "execution_count": 22,
   "metadata": {},
   "outputs": [
    {
     "data": {
      "text/plain": [
       "<chainer.datasets.sub_dataset.SubDataset at 0x10c0cd470>"
      ]
     },
     "execution_count": 22,
     "metadata": {},
     "output_type": "execute_result"
    }
   ],
   "source": [
    "a"
   ]
  },
  {
   "cell_type": "code",
   "execution_count": null,
   "metadata": {},
   "outputs": [],
   "source": []
  }
 ],
 "metadata": {
  "kernelspec": {
   "display_name": "Python 3",
   "language": "python",
   "name": "python3"
  },
  "language_info": {
   "codemirror_mode": {
    "name": "ipython",
    "version": 3
   },
   "file_extension": ".py",
   "mimetype": "text/x-python",
   "name": "python",
   "nbconvert_exporter": "python",
   "pygments_lexer": "ipython3",
   "version": "3.7.0"
  }
 },
 "nbformat": 4,
 "nbformat_minor": 2
}
